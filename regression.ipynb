{
  "nbformat": 4,
  "nbformat_minor": 0,
  "metadata": {
    "colab": {
      "name": "regression.ipynb",
      "provenance": []
    },
    "kernelspec": {
      "name": "python3",
      "display_name": "Python 3"
    },
    "language_info": {
      "name": "python"
    }
  },
  "cells": [
    {
      "cell_type": "code",
      "metadata": {
        "id": "9QXU8o84Et4E"
      },
      "source": [
        "import pandas as pd\n",
        "import numpy as np\n",
        "from sklearn.preprocessing import OneHotEncoder\n",
        "from sklearn.linear_model import LinearRegression\n",
        "from sklearn.impute import SimpleImputer\n",
        "from sklearn.compose import ColumnTransformer\n",
        "from sklearn.pipeline import Pipeline\n",
        "from sklearn.metrics import mean_squared_error\n",
        "country_data = pd.read_csv('210809자료합친파일.csv', index_col = 0)\n",
        "country_data_with_answer = country_data[pd.isna(country_data['합계출산;2015'])==False]\n",
        "country_data_in_question = country_data[pd.isna(country_data['합계출산;2015'])]\n",
        "explanatory_variables = ['1인당 GNI(구매력환산기준 2011) (달러);2018',\n",
        "                  '평균교육기간(년);2018', '경제활동참여율;여자',\n",
        "                  '도시화율;2020','sub-region']\n",
        "X = country_data_with_answer[explanatory_variables]\n",
        "y = country_data_with_answer['합계출산;2015']"
      ],
      "execution_count": null,
      "outputs": []
    },
    {
      "cell_type": "code",
      "metadata": {
        "id": "6Ntpaj8CEx4E"
      },
      "source": [
        "preprocess_cat = Pipeline(steps = [ # 어느 곳에 속한 지 모르면 missing으로 지역이름 설정\n",
        "    ('imputer', SimpleImputer(strategy = 'constant', fill_value = 'missing')),\n",
        "    ('encoder', OneHotEncoder( # 각 지역을 하나의 설명변수로 설정(encode)\n",
        "        handle_unknown = 'ignore')), # when encountering unknown, encode all zero\n",
        "    ])\n",
        "preprocess_num = Pipeline(steps = [\n",
        "    ('imputer', SimpleImputer(strategy = 'median')), # NaN를 중앙값으로 변경\n",
        "    ])\n",
        "preprocess = ColumnTransformer(\n",
        "    transformers = [\n",
        "        ('numerizer', preprocess_num, explanatory_variables[:-1]),\n",
        "        ('categorizer', preprocess_cat, explanatory_variables[-1:]),\n",
        "        ])"
      ],
      "execution_count": null,
      "outputs": []
    },
    {
      "cell_type": "code",
      "metadata": {
        "id": "unXfZZ_7E3JG"
      },
      "source": [
        "reg = Pipeline(steps = [('preprocessor', preprocess),\n",
        "                        ('regressor', LinearRegression()),\n",
        "                        ])\n",
        "reg.fit(X, y) # 선형 회귀분석\n",
        "print('RMSE: '+str(mean_squared_error(y, reg.predict(X)))) # 평균오차 산정\n",
        "print(\n",
        "    pd.Series(\n",
        "        reg.predict(country_data_in_question[explanatory_variables]),\n",
        "        index = country_data_in_question.index,\n",
        "        name = '출산율이 NaN인 국가의 출산율 예측치')\n",
        "    )\n",
        "print(\n",
        "    pd.Series(\n",
        "        reg.named_steps['regressor'].coef_,\n",
        "        index = explanatory_variables[:-1] + \\\n",
        "        list(reg.named_steps['preprocessor'].named_transformers_['categorizer'].\\\n",
        "             named_steps['encoder'].categories_[0]),\n",
        "        name = '각 설명변수의 회귀계수')\n",
        "    )"
      ],
      "execution_count": null,
      "outputs": []
    }
  ]
}