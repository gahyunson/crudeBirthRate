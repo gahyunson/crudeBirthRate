{
 "cells": [
  {
   "cell_type": "code",
   "execution_count": 275,
   "metadata": {},
   "outputs": [
    {
     "name": "stderr",
     "output_type": "stream",
     "text": [
      "/Users/gahyun/opt/anaconda3/lib/python3.8/site-packages/openpyxl/styles/stylesheet.py:221: UserWarning: Workbook contains no default style, apply openpyxl's default\n",
      "  warn(\"Workbook contains no default style, apply openpyxl's default\")\n",
      "/Users/gahyun/opt/anaconda3/lib/python3.8/site-packages/pandas/core/strings/accessor.py:101: UserWarning: This pattern has match groups. To actually get the groups, use str.extract.\n",
      "  return func(self, *args, **kwargs)\n"
     ]
    }
   ],
   "source": [
    "import pandas as pd\n",
    "import numpy as np\n",
    "import re\n",
    "import folium\n",
    "import map\n",
    "import json\n",
    "import matplotlib.pyplot as plt\n",
    "import math\n",
    "import import_ipynb\n",
    "from birthrate_col_graph import *\n",
    "from matplotlib import rcParams\n",
    "import matplotlib.pyplot as plt\n",
    "from sklearn.preprocessing import OneHotEncoder\n",
    "from sklearn.linear_model import LinearRegression\n",
    "from sklearn.impute import SimpleImputer\n",
    "from sklearn.compose import ColumnTransformer\n",
    "from sklearn.pipeline import Pipeline\n",
    "from sklearn.metrics import mean_squared_error\n",
    "\n",
    "\n",
    "fertility = pd.read_csv('project_data/합계출산.csv', encoding='utf-8')\n",
    "fertility.columns = ['합계출산;'+i for i in fertility.columns]\n",
    "hdi = pd.read_csv('project_data/인간개발지수.csv',encoding='utf-8', header=[0,1])\n",
    "hdi.columns = [';'.join(i) for i in hdi.columns]\n",
    "hdi['국가별;국가별'] = hdi['국가별;국가별'].apply(lambda x: x.strip())\n",
    "hdi.iloc[:,-1] = hdi.iloc[:,-1].str.replace(',','') # comma문제 해결\n",
    "\n",
    "gdp = pd.read_csv('project_data/국민소득.csv', encoding='utf-8', header=[0,1])\n",
    "gdp.columns = [';'.join(i) for i in gdp.columns]\n",
    "\n",
    "urban = pd.read_csv('project_data/도시화율.csv', encoding='utf-8')\n",
    "urban.columns = ['도시화율;'+i for i in urban.columns]\n",
    "\n",
    "pop = pd.read_csv('project_data/인구_동향.csv', encoding='utf-8', header=[0,1])\n",
    "pop.columns = [';'.join(i) for i in pop.columns]\n",
    "\n",
    "consumer_price = pd.read_csv('project_data/소비자_물가지수.csv', encoding='utf-8', header=[0,1])\n",
    "consumer_price.columns = [';'.join(i) for i in consumer_price.columns]\n",
    "consumer_price\n",
    "\n",
    "action_man = pd.read_excel('project_data/경제활동참여율(남).xlsx').drop(columns='대륙')\n",
    "action_woman = pd.read_excel('project_data/경제활동참여율(여).xlsx').drop(columns='대륙')\n",
    "action_man = action_man.rename(columns = {'국가':'국가별;국가별',\n",
    "                                          '경제활동참여율;2020':'경제활동참여율;남자'})\n",
    "action_woman = action_woman.rename(columns = {'국가':'국가별;국가별',\n",
    "                                              '경제활동참여율;2020':'경제활동참여율;여자'})\n",
    "edu = pd.read_excel('project_data/교육정도별_취학률.xlsx', header=[0,1])\n",
    "edu[('국가별','국가별')] = np.repeat(edu[('국가별','국가별')]\\\n",
    "                               [edu[('국가별','국가별')].isna()==False].values,\n",
    "                               3)\n",
    "edu[('국가별','국가별')] = edu[('국가별','국가별')].apply(lambda x: x.strip())\n",
    "edu.columns = [';'.join(i) for i in edu.columns]\n",
    "edu = pd.concat([edu.pivot(values = i, columns = '성별;성별', index = '국가별;국가별')\n",
    "                for i in edu.columns[2:]], keys = [i for i in edu.columns[2:]],\n",
    "                axis=1)\n",
    "edu = edu.replace('-',np.nan)\n",
    "def all_na(df_col):\n",
    "    not_na = df_col[df_col.isna()==False]\n",
    "    if len(not_na)>0:\n",
    "        return not_na.iloc[0]\n",
    "    else:\n",
    "        return np.nan\n",
    "for i in range(4):\n",
    "    first_name = edu.columns[9*i][0].split(';')[0]\n",
    "    for j in range(3):\n",
    "        last_name = edu.columns[9*i+j][1]\n",
    "        edu[(first_name,last_name)] = edu.iloc[:,9*i+j:9*(i+1)+j:3].apply(all_na,\n",
    "                                                                          axis=1)\n",
    "edu = edu.iloc[:,-12:]\n",
    "edu.columns = [';'.join(i) for i in edu.columns]\n",
    "edu[edu.index.name] = edu.index\n",
    "edu.index = range(len(edu))\n",
    "merged_df = gdp.copy()\n",
    "merged_df\n",
    "for file in (fertility, urban, hdi, pop, edu, action_man, action_woman, consumer_price):\n",
    "    try:\n",
    "        merged_df = merged_df.merge(file,\n",
    "                              'outer',\n",
    "                              left_on = '국가;국가',\n",
    "                              right_on = '국가별;국가별',\n",
    "                              )\n",
    "    except:\n",
    "        merged_df = merged_df.merge(file,\n",
    "                              'outer',\n",
    "                              left_on = '국가;국가',\n",
    "                              right_on = file.columns[file.columns.str.endswith('국가별')][0],\n",
    "                              )\n",
    "nation_column = merged_df[merged_df.columns[merged_df.columns.str.contains('국가(별|;)')]]\n",
    "merged_df = merged_df.drop(\n",
    "    columns = merged_df.columns[merged_df.columns.str.contains('국가(별|;)')])\n",
    "merged_df['국가'] = nation_column.apply(lambda x: x[x.isna()==False].iloc[0], axis=1)\n",
    "duplicate = merged_df['국가'].value_counts()[merged_df['국가'].value_counts()>1].index\n",
    "rm_na_df = merged_df[merged_df['국가'].isin(duplicate)].\\\n",
    "                                groupby('국가').apply(lambda x: x.apply(all_na))\n",
    "merged_df = merged_df.drop(index = merged_df[merged_df['국가'].isin(duplicate)].index)\n",
    "final_data = pd.concat([merged_df,rm_na_df], axis=0)\n",
    "final_data.set_index(['국가'], inplace=True)\n",
    "final_data.replace('-',np.NaN, inplace = True)\n",
    "#final_data.to_csv('210809자료합친파일.csv', encoding=\"utf-8-sig\")\n",
    "for col in final_data.columns:\n",
    "    final_data[col] = final_data[col].apply(lambda data : data if pd.isna(data) else re.findall('[0-9.-]+',str(data))[0])\n",
    "final_data = final_data.astype(float)\n",
    "final_data.to_csv('자료합친파일.csv', encoding=\"utf-8-sig\")"
   ]
  },
  {
   "cell_type": "code",
   "execution_count": 276,
   "metadata": {},
   "outputs": [],
   "source": [
    "from sklearn.preprocessing import OneHotEncoder\n",
    "from sklearn.linear_model import LinearRegression\n",
    "from sklearn.impute import SimpleImputer\n",
    "from sklearn.compose import ColumnTransformer\n",
    "from sklearn.pipeline import Pipeline\n",
    "from sklearn.metrics import mean_squared_error"
   ]
  },
  {
   "cell_type": "code",
   "execution_count": 277,
   "metadata": {},
   "outputs": [],
   "source": [
    "# country_data = pd.read_csv('210809자료합친파일.csv', index_col = 0)\n",
    "# 합계출산의 값이 있는 경우 \n",
    "country_data_with_answer = final_data[pd.isna(final_data['합계출산;2015'])==False]\n",
    "# 합계출산에 NaN , 값이 없는 경우\n",
    "country_data_in_question = final_data[pd.isna(final_data['합계출산;2015'])]\n",
    "# 계산할 컬럼들\n",
    "explanatory_variables = ['1인당 GNI(구매력환산기준 2011) (달러);2018',\n",
    "                  '평균교육기간(년);2018', '경제활동참여율;여자',\n",
    "                  '도시화율;2020']\n",
    "X = country_data_with_answer[explanatory_variables]\n",
    "# 나라별 합계출산 series\n",
    "y = country_data_with_answer['합계출산;2015']"
   ]
  },
  {
   "cell_type": "code",
   "execution_count": 278,
   "metadata": {
    "id": "6Ntpaj8CEx4E"
   },
   "outputs": [],
   "source": [
    "\n",
    "preprocess_cat = Pipeline(steps = [ # 어느 곳에 속한 지 모르면 missing으로 지역이름 설정\n",
    "    ('imputer', SimpleImputer(strategy = 'constant', fill_value = 0)),\n",
    "    ('encoder', OneHotEncoder( # 각 지역을 하나의 설명변수로 설정(encode)\n",
    "        handle_unknown = 'ignore')), # when encountering unknown, encode all zero\n",
    "    ])\n",
    "preprocess_num = Pipeline(steps = [\n",
    "    ('imputer', SimpleImputer(strategy = 'median')), # NaN를 중앙값으로 변경\n",
    "    ])\n",
    "preprocess = ColumnTransformer(\n",
    "    transformers = [\n",
    "        ('numerizer', preprocess_num, explanatory_variables[:-1]),\n",
    "        ('categorizer', preprocess_cat, explanatory_variables[-1:]),\n",
    "        ])\n"
   ]
  },
  {
   "cell_type": "code",
   "execution_count": null,
   "metadata": {
    "id": "9QXU8o84Et4E"
   },
   "outputs": [],
   "source": []
  },
  {
   "cell_type": "code",
   "execution_count": 279,
   "metadata": {
    "id": "unXfZZ_7E3JG",
    "scrolled": true
   },
   "outputs": [
    {
     "name": "stdout",
     "output_type": "stream",
     "text": [
      "RMSE: 0.150796123327458\n"
     ]
    }
   ],
   "source": [
    "reg = Pipeline(steps = [('preprocessor', preprocess),\n",
    "                        ('regressor', LinearRegression()),\n",
    "                        ])\n",
    "reg.fit(X, y) # 선형 회귀분석\n",
    "print('RMSE: '+str(mean_squared_error(y, reg.predict(X)))) # 평균오차 산정\n",
    "preBirth=pd.Series(\n",
    "    reg.predict(country_data_in_question[explanatory_variables]),\n",
    "    index = country_data_in_question.index,\n",
    "    name = '출산율이 NaN인 국가의 출산율 예측치')\n",
    "\n",
    "regCo=pd.Series(\n",
    "    reg.named_steps['regressor'].coef_,\n",
    "    index = explanatory_variables[:-1] + \\\n",
    "    list(reg.named_steps['preprocessor'].named_transformers_['categorizer'].\\\n",
    "            named_steps['encoder'].categories_[0]),\n",
    "    name = '각 설명변수의 회귀계수')\n"
   ]
  },
  {
   "cell_type": "code",
   "execution_count": 280,
   "metadata": {},
   "outputs": [],
   "source": [
    "preBirth=np.round(preBirth,2)\n",
    "for i in preBirth.items():\n",
    "    final_data.loc[i[0]]['합계출산;2015']=i[1]\n",
    "final_data.to_csv('210809자료합친파일.csv', encoding=\"utf-8-sig\")\n",
    "    "
   ]
  },
  {
   "cell_type": "code",
   "execution_count": null,
   "metadata": {},
   "outputs": [],
   "source": []
  }
 ],
 "metadata": {
  "colab": {
   "name": "regression.ipynb",
   "provenance": []
  },
  "kernelspec": {
   "display_name": "Python 3",
   "language": "python",
   "name": "python3"
  },
  "language_info": {
   "codemirror_mode": {
    "name": "ipython",
    "version": 3
   },
   "file_extension": ".py",
   "mimetype": "text/x-python",
   "name": "python",
   "nbconvert_exporter": "python",
   "pygments_lexer": "ipython3",
   "version": "3.8.8"
  }
 },
 "nbformat": 4,
 "nbformat_minor": 1
}
