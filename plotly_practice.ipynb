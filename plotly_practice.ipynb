{
 "cells": [
  {
   "cell_type": "code",
   "execution_count": 31,
   "id": "9637054b",
   "metadata": {},
   "outputs": [],
   "source": [
    "import pandas as pd\n",
    "import re\n",
    "import matplotlib.pyplot as plt\n",
    "\n"
   ]
  },
  {
   "cell_type": "code",
   "execution_count": 32,
   "id": "9bbc62f1",
   "metadata": {},
   "outputs": [],
   "source": [
    "final_data=pd.read_csv('210809자료합친파일.csv')\n",
    "final_data.set_index(['국가'], inplace=True)"
   ]
  },
  {
   "cell_type": "code",
   "execution_count": 33,
   "id": "a1c413a8",
   "metadata": {},
   "outputs": [],
   "source": [
    "for col in final_data.columns:\n",
    "    final_data[col] = final_data[col].apply(lambda data : data if pd.isna(data) else np.NaN if data =='-' else re.findall('[0-9.]+',str(data))[0])\n",
    "final_data = final_data.astype(float)\n",
    "final_data['국가명'] = final_data.index"
   ]
  },
  {
   "cell_type": "code",
   "execution_count": 34,
   "id": "7df11931",
   "metadata": {},
   "outputs": [],
   "source": [
    "def makeDataframe(col):\n",
    "    data_df=final_data[[col,'합계출산;2020','국가명']]\n",
    "    data_df=data_df[data_df['국가명']!='세계']\n",
    "    data_df.sort_values(col, ascending=False, inplace=True)\n",
    "    data_df=data_df.dropna()\n",
    "    return data_df\n",
    "\n",
    "makeDataframe('평균교육기간(년);2018')\n",
    "\n",
    "def makeGraph(df,col):\n",
    "    plt.rcParams['figure.figsize']=[15,10]\n",
    "    \n",
    "    plt.plot('합계출산;2020',\n",
    "             col,\n",
    "             data = df, \n",
    "             linestyle='none', \n",
    "             marker='o', \n",
    "             markersize=10,\n",
    "             color='blue', \n",
    "             alpha=0.5)\n",
    "\n",
    "    plt.title(col+'& Birth rate', fontsize=20)\n",
    "    plt.xlabel('2020 birthrate', fontsize=14)\n",
    "    plt.ylabel(col, fontsize=14)\n",
    "    plt.yscale('log')\n",
    "    plt.hlines(df[col].mean(),\n",
    "               df['합계출산;2020'].min(),\n",
    "               df['합계출산;2020'].max(),\n",
    "             color='gray',\n",
    "             linestyle='--',\n",
    "             linewidth = 2)\n",
    "    plt.vlines(df['합계출산;2020'].mean(),\n",
    "               df[col].min(),\n",
    "               df[col].max(),\n",
    "             color='gray',\n",
    "             linestyle='--',\n",
    "             linewidth = 2)\n",
    "    return plt.show()"
   ]
  },
  {
   "cell_type": "code",
   "execution_count": 35,
   "id": "48074b45",
   "metadata": {},
   "outputs": [],
   "source": [
    "# pip install import_ipynb"
   ]
  },
  {
   "cell_type": "code",
   "execution_count": 15,
   "id": "45752776",
   "metadata": {},
   "outputs": [],
   "source": [
    "# import import_ipynb\n",
    "# from birthrate_col_graph import *"
   ]
  },
  {
   "cell_type": "code",
   "execution_count": 36,
   "id": "1e731568",
   "metadata": {},
   "outputs": [],
   "source": [
    "gni_birth_df=makeDataframe('1인당 GNI(구매력환산기준 2011) (달러);2018')"
   ]
  },
  {
   "cell_type": "code",
   "execution_count": 37,
   "id": "cd86d69e",
   "metadata": {},
   "outputs": [],
   "source": [
    "# 설치하는 것\n",
    "\n",
    "# pip install plotly==3.8.1\n",
    "# pip install cufflinks\n",
    "# pip install plotly_express"
   ]
  },
  {
   "cell_type": "code",
   "execution_count": 30,
   "id": "ae9c47f3",
   "metadata": {},
   "outputs": [
    {
     "data": {
      "application/vnd.plotly.v1+json": {
       "config": {
        "plotlyServerURL": "https://plot.ly"
       },
       "data": [
        {
         "hovertemplate": "<b>%{hovertext}</b><br><br>합계출산;2020=%{x}<br>1인당 GNI(구매력환산기준 2011) (달러);2018=%{y}<extra></extra>",
         "hovertext": [
          "카타르",
          "싱가포르",
          "브루나이",
          "쿠웨이트",
          "노르웨이",
          "아랍에미리트",
          "룩셈부르크",
          "홍콩",
          "스위스",
          "미국",
          "아일랜드",
          "네덜란드",
          "사우디아라비아",
          "덴마크",
          "스웨덴",
          "아이슬란드",
          "독일",
          "오스트리아",
          "오스트레일리아",
          "벨기에",
          "캐나다",
          "핀란드",
          "일본",
          "프랑스",
          "바레인",
          "영국",
          "오만",
          "한국",
          "이탈리아",
          "뉴질랜드",
          "스페인",
          "몰타",
          "이스라엘",
          "키프로스",
          "슬로베니아",
          "체코",
          "슬로바키아",
          "에스토니아",
          "리투아니아",
          "트리니다드토바고",
          "바하마",
          "포르투갈",
          "폴란드",
          "말레이시아",
          "헝가리",
          "라트비아",
          "세이셸",
          "러시아",
          "그리스",
          "터키",
          "루마니아",
          "크로아티아",
          "모리셔스",
          "앤티가바부다",
          "카자흐스탄",
          "칠레",
          "파나마",
          "불가리아",
          "우루과이",
          "이란",
          "적도기니",
          "멕시코",
          "아르헨티나",
          "몬테네그로",
          "벨라루스",
          "투르크메니스탄",
          "태국",
          "중국",
          "보츠와나",
          "바베이도스",
          "가봉",
          "이라크",
          "아제르바이잔",
          "세르비아",
          "도미니카공화국",
          "코스타리카",
          "브라질",
          "알제리",
          "콜롬비아",
          "북마케도니아",
          "그레나다",
          "몰디브",
          "페루",
          "알바니아",
          "수리남",
          "남아프리카공화국",
          "세인트빈센트그레나딘",
          "파라과이",
          "리비아",
          "스리랑카",
          "세인트루시아",
          "인도네시아",
          "레바논",
          "몽골",
          "이집트",
          "튀니지",
          "에콰도르",
          "나미비아",
          "조지아",
          "필리핀",
          "에스와티니",
          "아르메니아",
          "피지",
          "베네수엘라",
          "부탄",
          "요르단",
          "우크라이나",
          "자메이카",
          "쿠바",
          "가이아나",
          "모로코",
          "과테말라",
          "벨리즈",
          "엘살바도르",
          "볼리비아",
          "몰도바",
          "인도",
          "카보베르데",
          "우즈베키스탄",
          "라오스",
          "베트남",
          "사모아",
          "콩고",
          "통가",
          "미얀마",
          "앙골라",
          "파키스탄",
          "나이지리아",
          "니카라과",
          "온두라스",
          "가나",
          "방글라데시",
          "수단",
          "키리바시",
          "모리타니",
          "미크로네시아",
          "파푸아뉴기니",
          "지부티",
          "캄보디아",
          "코트디부아르",
          "잠비아",
          "타지키스탄",
          "키르기스스탄",
          "카메룬",
          "세네갈",
          "레소토",
          "케냐",
          "상투메프린시페",
          "바누아투",
          "탄자니아",
          "네팔",
          "시리아",
          "짐바브웨",
          "코모로",
          "기니",
          "베냉",
          "솔로몬제도",
          "말리",
          "르완다",
          "에티오피아",
          "우간다",
          "아프가니스탄",
          "차드",
          "에리트레아",
          "부르키나파소",
          "아이티",
          "기니비사우",
          "토고",
          "감비아",
          "예멘",
          "마다가스카르",
          "시에라리온",
          "말라위",
          "모잠비크",
          "라이베리아",
          "니제르",
          "콩고민주공화국",
          "중앙아프리카공화국",
          "부룬디"
         ],
         "legendgroup": "",
         "marker": {
          "color": "#636efa",
          "symbol": "circle"
         },
         "mode": "markers",
         "name": "",
         "orientation": "v",
         "showlegend": false,
         "type": "scatter",
         "x": [
          1.88,
          1.21,
          1.85,
          2.1,
          1.68,
          1.42,
          1.45,
          1.33,
          1.54,
          1.78,
          1.84,
          1.66,
          2.34,
          1.76,
          1.85,
          1.77,
          1.59,
          1.53,
          1.83,
          1.71,
          1.53,
          1.53,
          1.37,
          1.85,
          2,
          1.75,
          2.93,
          1.11,
          1.33,
          1.9,
          1.33,
          1.45,
          3.04,
          1.34,
          1.6,
          1.64,
          1.5,
          1.59,
          1.67,
          1.73,
          1.76,
          1.29,
          1.42,
          2.01,
          1.49,
          1.72,
          2.46,
          1.82,
          1.3,
          2.08,
          1.62,
          1.45,
          1.39,
          2,
          2.76,
          1.65,
          2.47,
          1.56,
          1.98,
          2.15,
          4.55,
          2.14,
          2.27,
          1.75,
          1.71,
          2.79,
          1.53,
          1.69,
          2.89,
          1.62,
          4,
          3.68,
          2.08,
          1.46,
          2.36,
          1.76,
          1.74,
          3.05,
          1.82,
          1.5,
          2.07,
          1.88,
          2.27,
          1.62,
          2.43,
          2.41,
          1.9,
          2.45,
          2.25,
          2.21,
          1.44,
          2.32,
          2.09,
          2.9,
          3.33,
          2.2,
          2.44,
          3.42,
          2.06,
          2.58,
          3.03,
          1.76,
          2.79,
          2.28,
          2,
          2.77,
          1.44,
          1.99,
          1.62,
          2.47,
          2.42,
          2.9,
          2.32,
          2.05,
          2.75,
          1.26,
          2.24,
          2.29,
          2.43,
          2.7,
          2.06,
          3.9,
          4.45,
          3.58,
          2.17,
          5.55,
          3.55,
          5.42,
          2.42,
          2.49,
          3.89,
          2.05,
          4.43,
          3.58,
          4.59,
          3.08,
          3.59,
          2.76,
          2.52,
          4.68,
          4.66,
          3.61,
          3,
          4.6,
          4.65,
          3.16,
          3.52,
          4.35,
          3.8,
          4.92,
          1.93,
          2.84,
          3.63,
          4.24,
          4.74,
          4.87,
          4.44,
          5.92,
          4.1,
          4.3,
          5.01,
          4.56,
          5.8,
          4.1,
          5.23,
          2.96,
          4.51,
          4.35,
          5.25,
          3.84,
          4.11,
          4.32,
          4.25,
          4.89,
          4.35,
          6.95,
          5.96,
          4.75,
          5.45
         ],
         "xaxis": "x",
         "y": [
          110489,
          83793,
          76389,
          71164,
          68059,
          66912,
          65543,
          60221,
          59375,
          56140,
          55660,
          50013,
          49338,
          48836,
          47955,
          47566,
          46946,
          46231,
          44097,
          43821,
          43602,
          41779,
          40799,
          40511,
          40399,
          39507,
          37039,
          36757,
          36141,
          35108,
          35041,
          34795,
          33650,
          33100,
          32143,
          31597,
          30672,
          30379,
          29775,
          28497,
          28395,
          27935,
          27626,
          27227,
          27144,
          26301,
          25077,
          25036,
          24909,
          24905,
          23906,
          23061,
          22724,
          22201,
          22168,
          21972,
          20455,
          19646,
          19435,
          18166,
          17796,
          17628,
          17611,
          17511,
          17039,
          16407,
          16129,
          16127,
          15951,
          15912,
          15794,
          15365,
          15240,
          15218,
          15074,
          14790,
          14068,
          13639,
          12896,
          12874,
          12684,
          12549,
          12323,
          12300,
          11933,
          11756,
          11746,
          11720,
          11685,
          11611,
          11528,
          11256,
          11136,
          10784,
          10744,
          10677,
          10141,
          9683,
          9570,
          9540,
          9359,
          9277,
          9110,
          9070,
          8609,
          8268,
          7994,
          7932,
          7811,
          7615,
          7480,
          7378,
          7136,
          6973,
          6849,
          6833,
          6829,
          6513,
          6462,
          6317,
          6220,
          5885,
          5804,
          5783,
          5764,
          5555,
          5190,
          5086,
          4790,
          4258,
          4099,
          4057,
          3962,
          3917,
          3746,
          3700,
          3686,
          3601,
          3597,
          3589,
          3582,
          3482,
          3317,
          3291,
          3256,
          3244,
          3052,
          3024,
          2808,
          2805,
          2748,
          2725,
          2661,
          2426,
          2211,
          2135,
          2027,
          1965,
          1959,
          1782,
          1752,
          1746,
          1716,
          1708,
          1705,
          1665,
          1593,
          1593,
          1490,
          1433,
          1404,
          1381,
          1159,
          1154,
          1040,
          912,
          800,
          777,
          660
         ],
         "yaxis": "y"
        }
       ],
       "layout": {
        "legend": {
         "tracegroupgap": 0
        },
        "template": {
         "data": {
          "bar": [
           {
            "error_x": {
             "color": "#2a3f5f"
            },
            "error_y": {
             "color": "#2a3f5f"
            },
            "marker": {
             "line": {
              "color": "#E5ECF6",
              "width": 0.5
             },
             "pattern": {
              "fillmode": "overlay",
              "size": 10,
              "solidity": 0.2
             }
            },
            "type": "bar"
           }
          ],
          "barpolar": [
           {
            "marker": {
             "line": {
              "color": "#E5ECF6",
              "width": 0.5
             },
             "pattern": {
              "fillmode": "overlay",
              "size": 10,
              "solidity": 0.2
             }
            },
            "type": "barpolar"
           }
          ],
          "carpet": [
           {
            "aaxis": {
             "endlinecolor": "#2a3f5f",
             "gridcolor": "white",
             "linecolor": "white",
             "minorgridcolor": "white",
             "startlinecolor": "#2a3f5f"
            },
            "baxis": {
             "endlinecolor": "#2a3f5f",
             "gridcolor": "white",
             "linecolor": "white",
             "minorgridcolor": "white",
             "startlinecolor": "#2a3f5f"
            },
            "type": "carpet"
           }
          ],
          "choropleth": [
           {
            "colorbar": {
             "outlinewidth": 0,
             "ticks": ""
            },
            "type": "choropleth"
           }
          ],
          "contour": [
           {
            "colorbar": {
             "outlinewidth": 0,
             "ticks": ""
            },
            "colorscale": [
             [
              0,
              "#0d0887"
             ],
             [
              0.1111111111111111,
              "#46039f"
             ],
             [
              0.2222222222222222,
              "#7201a8"
             ],
             [
              0.3333333333333333,
              "#9c179e"
             ],
             [
              0.4444444444444444,
              "#bd3786"
             ],
             [
              0.5555555555555556,
              "#d8576b"
             ],
             [
              0.6666666666666666,
              "#ed7953"
             ],
             [
              0.7777777777777778,
              "#fb9f3a"
             ],
             [
              0.8888888888888888,
              "#fdca26"
             ],
             [
              1,
              "#f0f921"
             ]
            ],
            "type": "contour"
           }
          ],
          "contourcarpet": [
           {
            "colorbar": {
             "outlinewidth": 0,
             "ticks": ""
            },
            "type": "contourcarpet"
           }
          ],
          "heatmap": [
           {
            "colorbar": {
             "outlinewidth": 0,
             "ticks": ""
            },
            "colorscale": [
             [
              0,
              "#0d0887"
             ],
             [
              0.1111111111111111,
              "#46039f"
             ],
             [
              0.2222222222222222,
              "#7201a8"
             ],
             [
              0.3333333333333333,
              "#9c179e"
             ],
             [
              0.4444444444444444,
              "#bd3786"
             ],
             [
              0.5555555555555556,
              "#d8576b"
             ],
             [
              0.6666666666666666,
              "#ed7953"
             ],
             [
              0.7777777777777778,
              "#fb9f3a"
             ],
             [
              0.8888888888888888,
              "#fdca26"
             ],
             [
              1,
              "#f0f921"
             ]
            ],
            "type": "heatmap"
           }
          ],
          "heatmapgl": [
           {
            "colorbar": {
             "outlinewidth": 0,
             "ticks": ""
            },
            "colorscale": [
             [
              0,
              "#0d0887"
             ],
             [
              0.1111111111111111,
              "#46039f"
             ],
             [
              0.2222222222222222,
              "#7201a8"
             ],
             [
              0.3333333333333333,
              "#9c179e"
             ],
             [
              0.4444444444444444,
              "#bd3786"
             ],
             [
              0.5555555555555556,
              "#d8576b"
             ],
             [
              0.6666666666666666,
              "#ed7953"
             ],
             [
              0.7777777777777778,
              "#fb9f3a"
             ],
             [
              0.8888888888888888,
              "#fdca26"
             ],
             [
              1,
              "#f0f921"
             ]
            ],
            "type": "heatmapgl"
           }
          ],
          "histogram": [
           {
            "marker": {
             "pattern": {
              "fillmode": "overlay",
              "size": 10,
              "solidity": 0.2
             }
            },
            "type": "histogram"
           }
          ],
          "histogram2d": [
           {
            "colorbar": {
             "outlinewidth": 0,
             "ticks": ""
            },
            "colorscale": [
             [
              0,
              "#0d0887"
             ],
             [
              0.1111111111111111,
              "#46039f"
             ],
             [
              0.2222222222222222,
              "#7201a8"
             ],
             [
              0.3333333333333333,
              "#9c179e"
             ],
             [
              0.4444444444444444,
              "#bd3786"
             ],
             [
              0.5555555555555556,
              "#d8576b"
             ],
             [
              0.6666666666666666,
              "#ed7953"
             ],
             [
              0.7777777777777778,
              "#fb9f3a"
             ],
             [
              0.8888888888888888,
              "#fdca26"
             ],
             [
              1,
              "#f0f921"
             ]
            ],
            "type": "histogram2d"
           }
          ],
          "histogram2dcontour": [
           {
            "colorbar": {
             "outlinewidth": 0,
             "ticks": ""
            },
            "colorscale": [
             [
              0,
              "#0d0887"
             ],
             [
              0.1111111111111111,
              "#46039f"
             ],
             [
              0.2222222222222222,
              "#7201a8"
             ],
             [
              0.3333333333333333,
              "#9c179e"
             ],
             [
              0.4444444444444444,
              "#bd3786"
             ],
             [
              0.5555555555555556,
              "#d8576b"
             ],
             [
              0.6666666666666666,
              "#ed7953"
             ],
             [
              0.7777777777777778,
              "#fb9f3a"
             ],
             [
              0.8888888888888888,
              "#fdca26"
             ],
             [
              1,
              "#f0f921"
             ]
            ],
            "type": "histogram2dcontour"
           }
          ],
          "mesh3d": [
           {
            "colorbar": {
             "outlinewidth": 0,
             "ticks": ""
            },
            "type": "mesh3d"
           }
          ],
          "parcoords": [
           {
            "line": {
             "colorbar": {
              "outlinewidth": 0,
              "ticks": ""
             }
            },
            "type": "parcoords"
           }
          ],
          "pie": [
           {
            "automargin": true,
            "type": "pie"
           }
          ],
          "scatter": [
           {
            "marker": {
             "colorbar": {
              "outlinewidth": 0,
              "ticks": ""
             }
            },
            "type": "scatter"
           }
          ],
          "scatter3d": [
           {
            "line": {
             "colorbar": {
              "outlinewidth": 0,
              "ticks": ""
             }
            },
            "marker": {
             "colorbar": {
              "outlinewidth": 0,
              "ticks": ""
             }
            },
            "type": "scatter3d"
           }
          ],
          "scattercarpet": [
           {
            "marker": {
             "colorbar": {
              "outlinewidth": 0,
              "ticks": ""
             }
            },
            "type": "scattercarpet"
           }
          ],
          "scattergeo": [
           {
            "marker": {
             "colorbar": {
              "outlinewidth": 0,
              "ticks": ""
             }
            },
            "type": "scattergeo"
           }
          ],
          "scattergl": [
           {
            "marker": {
             "colorbar": {
              "outlinewidth": 0,
              "ticks": ""
             }
            },
            "type": "scattergl"
           }
          ],
          "scattermapbox": [
           {
            "marker": {
             "colorbar": {
              "outlinewidth": 0,
              "ticks": ""
             }
            },
            "type": "scattermapbox"
           }
          ],
          "scatterpolar": [
           {
            "marker": {
             "colorbar": {
              "outlinewidth": 0,
              "ticks": ""
             }
            },
            "type": "scatterpolar"
           }
          ],
          "scatterpolargl": [
           {
            "marker": {
             "colorbar": {
              "outlinewidth": 0,
              "ticks": ""
             }
            },
            "type": "scatterpolargl"
           }
          ],
          "scatterternary": [
           {
            "marker": {
             "colorbar": {
              "outlinewidth": 0,
              "ticks": ""
             }
            },
            "type": "scatterternary"
           }
          ],
          "surface": [
           {
            "colorbar": {
             "outlinewidth": 0,
             "ticks": ""
            },
            "colorscale": [
             [
              0,
              "#0d0887"
             ],
             [
              0.1111111111111111,
              "#46039f"
             ],
             [
              0.2222222222222222,
              "#7201a8"
             ],
             [
              0.3333333333333333,
              "#9c179e"
             ],
             [
              0.4444444444444444,
              "#bd3786"
             ],
             [
              0.5555555555555556,
              "#d8576b"
             ],
             [
              0.6666666666666666,
              "#ed7953"
             ],
             [
              0.7777777777777778,
              "#fb9f3a"
             ],
             [
              0.8888888888888888,
              "#fdca26"
             ],
             [
              1,
              "#f0f921"
             ]
            ],
            "type": "surface"
           }
          ],
          "table": [
           {
            "cells": {
             "fill": {
              "color": "#EBF0F8"
             },
             "line": {
              "color": "white"
             }
            },
            "header": {
             "fill": {
              "color": "#C8D4E3"
             },
             "line": {
              "color": "white"
             }
            },
            "type": "table"
           }
          ]
         },
         "layout": {
          "annotationdefaults": {
           "arrowcolor": "#2a3f5f",
           "arrowhead": 0,
           "arrowwidth": 1
          },
          "autotypenumbers": "strict",
          "coloraxis": {
           "colorbar": {
            "outlinewidth": 0,
            "ticks": ""
           }
          },
          "colorscale": {
           "diverging": [
            [
             0,
             "#8e0152"
            ],
            [
             0.1,
             "#c51b7d"
            ],
            [
             0.2,
             "#de77ae"
            ],
            [
             0.3,
             "#f1b6da"
            ],
            [
             0.4,
             "#fde0ef"
            ],
            [
             0.5,
             "#f7f7f7"
            ],
            [
             0.6,
             "#e6f5d0"
            ],
            [
             0.7,
             "#b8e186"
            ],
            [
             0.8,
             "#7fbc41"
            ],
            [
             0.9,
             "#4d9221"
            ],
            [
             1,
             "#276419"
            ]
           ],
           "sequential": [
            [
             0,
             "#0d0887"
            ],
            [
             0.1111111111111111,
             "#46039f"
            ],
            [
             0.2222222222222222,
             "#7201a8"
            ],
            [
             0.3333333333333333,
             "#9c179e"
            ],
            [
             0.4444444444444444,
             "#bd3786"
            ],
            [
             0.5555555555555556,
             "#d8576b"
            ],
            [
             0.6666666666666666,
             "#ed7953"
            ],
            [
             0.7777777777777778,
             "#fb9f3a"
            ],
            [
             0.8888888888888888,
             "#fdca26"
            ],
            [
             1,
             "#f0f921"
            ]
           ],
           "sequentialminus": [
            [
             0,
             "#0d0887"
            ],
            [
             0.1111111111111111,
             "#46039f"
            ],
            [
             0.2222222222222222,
             "#7201a8"
            ],
            [
             0.3333333333333333,
             "#9c179e"
            ],
            [
             0.4444444444444444,
             "#bd3786"
            ],
            [
             0.5555555555555556,
             "#d8576b"
            ],
            [
             0.6666666666666666,
             "#ed7953"
            ],
            [
             0.7777777777777778,
             "#fb9f3a"
            ],
            [
             0.8888888888888888,
             "#fdca26"
            ],
            [
             1,
             "#f0f921"
            ]
           ]
          },
          "colorway": [
           "#636efa",
           "#EF553B",
           "#00cc96",
           "#ab63fa",
           "#FFA15A",
           "#19d3f3",
           "#FF6692",
           "#B6E880",
           "#FF97FF",
           "#FECB52"
          ],
          "font": {
           "color": "#2a3f5f"
          },
          "geo": {
           "bgcolor": "white",
           "lakecolor": "white",
           "landcolor": "#E5ECF6",
           "showlakes": true,
           "showland": true,
           "subunitcolor": "white"
          },
          "hoverlabel": {
           "align": "left"
          },
          "hovermode": "closest",
          "mapbox": {
           "style": "light"
          },
          "paper_bgcolor": "white",
          "plot_bgcolor": "#E5ECF6",
          "polar": {
           "angularaxis": {
            "gridcolor": "white",
            "linecolor": "white",
            "ticks": ""
           },
           "bgcolor": "#E5ECF6",
           "radialaxis": {
            "gridcolor": "white",
            "linecolor": "white",
            "ticks": ""
           }
          },
          "scene": {
           "xaxis": {
            "backgroundcolor": "#E5ECF6",
            "gridcolor": "white",
            "gridwidth": 2,
            "linecolor": "white",
            "showbackground": true,
            "ticks": "",
            "zerolinecolor": "white"
           },
           "yaxis": {
            "backgroundcolor": "#E5ECF6",
            "gridcolor": "white",
            "gridwidth": 2,
            "linecolor": "white",
            "showbackground": true,
            "ticks": "",
            "zerolinecolor": "white"
           },
           "zaxis": {
            "backgroundcolor": "#E5ECF6",
            "gridcolor": "white",
            "gridwidth": 2,
            "linecolor": "white",
            "showbackground": true,
            "ticks": "",
            "zerolinecolor": "white"
           }
          },
          "shapedefaults": {
           "line": {
            "color": "#2a3f5f"
           }
          },
          "ternary": {
           "aaxis": {
            "gridcolor": "white",
            "linecolor": "white",
            "ticks": ""
           },
           "baxis": {
            "gridcolor": "white",
            "linecolor": "white",
            "ticks": ""
           },
           "bgcolor": "#E5ECF6",
           "caxis": {
            "gridcolor": "white",
            "linecolor": "white",
            "ticks": ""
           }
          },
          "title": {
           "x": 0.05
          },
          "xaxis": {
           "automargin": true,
           "gridcolor": "white",
           "linecolor": "white",
           "ticks": "",
           "title": {
            "standoff": 15
           },
           "zerolinecolor": "white",
           "zerolinewidth": 2
          },
          "yaxis": {
           "automargin": true,
           "gridcolor": "white",
           "linecolor": "white",
           "ticks": "",
           "title": {
            "standoff": 15
           },
           "zerolinecolor": "white",
           "zerolinewidth": 2
          }
         }
        },
        "title": {
         "text": "GNI and BirthRate"
        },
        "xaxis": {
         "anchor": "y",
         "domain": [
          0,
          1
         ],
         "title": {
          "text": "합계출산;2020"
         },
         "type": "log"
        },
        "yaxis": {
         "anchor": "x",
         "domain": [
          0,
          1
         ],
         "title": {
          "text": "1인당 GNI(구매력환산기준 2011) (달러);2018"
         }
        }
       }
      },
      "text/html": [
       "<div>                            <div id=\"eebaefed-b2e6-4e57-bd97-f240a0a44aa8\" class=\"plotly-graph-div\" style=\"height:525px; width:100%;\"></div>            <script type=\"text/javascript\">                require([\"plotly\"], function(Plotly) {                    window.PLOTLYENV=window.PLOTLYENV || {};                                    if (document.getElementById(\"eebaefed-b2e6-4e57-bd97-f240a0a44aa8\")) {                    Plotly.newPlot(                        \"eebaefed-b2e6-4e57-bd97-f240a0a44aa8\",                        [{\"hovertemplate\":\"<b>%{hovertext}</b><br><br>\\ud569\\uacc4\\ucd9c\\uc0b0;2020=%{x}<br>1\\uc778\\ub2f9 GNI(\\uad6c\\ub9e4\\ub825\\ud658\\uc0b0\\uae30\\uc900 2011) (\\ub2ec\\ub7ec);2018=%{y}<extra></extra>\",\"hovertext\":[\"\\uce74\\ud0c0\\ub974\",\"\\uc2f1\\uac00\\ud3ec\\ub974\",\"\\ube0c\\ub8e8\\ub098\\uc774\",\"\\ucfe0\\uc6e8\\uc774\\ud2b8\",\"\\ub178\\ub974\\uc6e8\\uc774\",\"\\uc544\\ub78d\\uc5d0\\ubbf8\\ub9ac\\ud2b8\",\"\\ub8e9\\uc148\\ubd80\\ub974\\ud06c\",\"\\ud64d\\ucf69\",\"\\uc2a4\\uc704\\uc2a4\",\"\\ubbf8\\uad6d\",\"\\uc544\\uc77c\\ub79c\\ub4dc\",\"\\ub124\\ub35c\\ub780\\ub4dc\",\"\\uc0ac\\uc6b0\\ub514\\uc544\\ub77c\\ube44\\uc544\",\"\\ub374\\ub9c8\\ud06c\",\"\\uc2a4\\uc6e8\\ub374\",\"\\uc544\\uc774\\uc2ac\\ub780\\ub4dc\",\"\\ub3c5\\uc77c\",\"\\uc624\\uc2a4\\ud2b8\\ub9ac\\uc544\",\"\\uc624\\uc2a4\\ud2b8\\ub808\\uc77c\\ub9ac\\uc544\",\"\\ubca8\\uae30\\uc5d0\",\"\\uce90\\ub098\\ub2e4\",\"\\ud540\\ub780\\ub4dc\",\"\\uc77c\\ubcf8\",\"\\ud504\\ub791\\uc2a4\",\"\\ubc14\\ub808\\uc778\",\"\\uc601\\uad6d\",\"\\uc624\\ub9cc\",\"\\ud55c\\uad6d\",\"\\uc774\\ud0c8\\ub9ac\\uc544\",\"\\ub274\\uc9c8\\ub79c\\ub4dc\",\"\\uc2a4\\ud398\\uc778\",\"\\ubab0\\ud0c0\",\"\\uc774\\uc2a4\\ub77c\\uc5d8\",\"\\ud0a4\\ud504\\ub85c\\uc2a4\",\"\\uc2ac\\ub85c\\ubca0\\ub2c8\\uc544\",\"\\uccb4\\ucf54\",\"\\uc2ac\\ub85c\\ubc14\\ud0a4\\uc544\",\"\\uc5d0\\uc2a4\\ud1a0\\ub2c8\\uc544\",\"\\ub9ac\\ud22c\\uc544\\ub2c8\\uc544\",\"\\ud2b8\\ub9ac\\ub2c8\\ub2e4\\ub4dc\\ud1a0\\ubc14\\uace0\",\"\\ubc14\\ud558\\ub9c8\",\"\\ud3ec\\ub974\\ud22c\\uac08\",\"\\ud3f4\\ub780\\ub4dc\",\"\\ub9d0\\ub808\\uc774\\uc2dc\\uc544\",\"\\ud5dd\\uac00\\ub9ac\",\"\\ub77c\\ud2b8\\ube44\\uc544\",\"\\uc138\\uc774\\uc178\",\"\\ub7ec\\uc2dc\\uc544\",\"\\uadf8\\ub9ac\\uc2a4\",\"\\ud130\\ud0a4\",\"\\ub8e8\\ub9c8\\ub2c8\\uc544\",\"\\ud06c\\ub85c\\uc544\\ud2f0\\uc544\",\"\\ubaa8\\ub9ac\\uc154\\uc2a4\",\"\\uc564\\ud2f0\\uac00\\ubc14\\ubd80\\ub2e4\",\"\\uce74\\uc790\\ud750\\uc2a4\\ud0c4\",\"\\uce60\\ub808\",\"\\ud30c\\ub098\\ub9c8\",\"\\ubd88\\uac00\\ub9ac\\uc544\",\"\\uc6b0\\ub8e8\\uacfc\\uc774\",\"\\uc774\\ub780\",\"\\uc801\\ub3c4\\uae30\\ub2c8\",\"\\uba55\\uc2dc\\ucf54\",\"\\uc544\\ub974\\ud5e8\\ud2f0\\ub098\",\"\\ubaac\\ud14c\\ub124\\uadf8\\ub85c\",\"\\ubca8\\ub77c\\ub8e8\\uc2a4\",\"\\ud22c\\ub974\\ud06c\\uba54\\ub2c8\\uc2a4\\ud0c4\",\"\\ud0dc\\uad6d\",\"\\uc911\\uad6d\",\"\\ubcf4\\uce20\\uc640\\ub098\",\"\\ubc14\\ubca0\\uc774\\ub3c4\\uc2a4\",\"\\uac00\\ubd09\",\"\\uc774\\ub77c\\ud06c\",\"\\uc544\\uc81c\\ub974\\ubc14\\uc774\\uc794\",\"\\uc138\\ub974\\ube44\\uc544\",\"\\ub3c4\\ubbf8\\ub2c8\\uce74\\uacf5\\ud654\\uad6d\",\"\\ucf54\\uc2a4\\ud0c0\\ub9ac\\uce74\",\"\\ube0c\\ub77c\\uc9c8\",\"\\uc54c\\uc81c\\ub9ac\",\"\\ucf5c\\ub86c\\ube44\\uc544\",\"\\ubd81\\ub9c8\\ucf00\\ub3c4\\ub2c8\\uc544\",\"\\uadf8\\ub808\\ub098\\ub2e4\",\"\\ubab0\\ub514\\ube0c\",\"\\ud398\\ub8e8\",\"\\uc54c\\ubc14\\ub2c8\\uc544\",\"\\uc218\\ub9ac\\ub0a8\",\"\\ub0a8\\uc544\\ud504\\ub9ac\\uce74\\uacf5\\ud654\\uad6d\",\"\\uc138\\uc778\\ud2b8\\ube48\\uc13c\\ud2b8\\uadf8\\ub808\\ub098\\ub518\",\"\\ud30c\\ub77c\\uacfc\\uc774\",\"\\ub9ac\\ube44\\uc544\",\"\\uc2a4\\ub9ac\\ub791\\uce74\",\"\\uc138\\uc778\\ud2b8\\ub8e8\\uc2dc\\uc544\",\"\\uc778\\ub3c4\\ub124\\uc2dc\\uc544\",\"\\ub808\\ubc14\\ub17c\",\"\\ubabd\\uace8\",\"\\uc774\\uc9d1\\ud2b8\",\"\\ud280\\ub2c8\\uc9c0\",\"\\uc5d0\\ucf70\\ub3c4\\ub974\",\"\\ub098\\ubbf8\\ube44\\uc544\",\"\\uc870\\uc9c0\\uc544\",\"\\ud544\\ub9ac\\ud540\",\"\\uc5d0\\uc2a4\\uc640\\ud2f0\\ub2c8\",\"\\uc544\\ub974\\uba54\\ub2c8\\uc544\",\"\\ud53c\\uc9c0\",\"\\ubca0\\ub124\\uc218\\uc5d8\\ub77c\",\"\\ubd80\\ud0c4\",\"\\uc694\\ub974\\ub2e8\",\"\\uc6b0\\ud06c\\ub77c\\uc774\\ub098\",\"\\uc790\\uba54\\uc774\\uce74\",\"\\ucfe0\\ubc14\",\"\\uac00\\uc774\\uc544\\ub098\",\"\\ubaa8\\ub85c\\ucf54\",\"\\uacfc\\ud14c\\ub9d0\\ub77c\",\"\\ubca8\\ub9ac\\uc988\",\"\\uc5d8\\uc0b4\\ubc14\\ub3c4\\ub974\",\"\\ubcfc\\ub9ac\\ube44\\uc544\",\"\\ubab0\\ub3c4\\ubc14\",\"\\uc778\\ub3c4\",\"\\uce74\\ubcf4\\ubca0\\ub974\\ub370\",\"\\uc6b0\\uc988\\ubca0\\ud0a4\\uc2a4\\ud0c4\",\"\\ub77c\\uc624\\uc2a4\",\"\\ubca0\\ud2b8\\ub0a8\",\"\\uc0ac\\ubaa8\\uc544\",\"\\ucf69\\uace0\",\"\\ud1b5\\uac00\",\"\\ubbf8\\uc580\\ub9c8\",\"\\uc559\\uace8\\ub77c\",\"\\ud30c\\ud0a4\\uc2a4\\ud0c4\",\"\\ub098\\uc774\\uc9c0\\ub9ac\\uc544\",\"\\ub2c8\\uce74\\ub77c\\uacfc\",\"\\uc628\\ub450\\ub77c\\uc2a4\",\"\\uac00\\ub098\",\"\\ubc29\\uae00\\ub77c\\ub370\\uc2dc\",\"\\uc218\\ub2e8\",\"\\ud0a4\\ub9ac\\ubc14\\uc2dc\",\"\\ubaa8\\ub9ac\\ud0c0\\ub2c8\",\"\\ubbf8\\ud06c\\ub85c\\ub124\\uc2dc\\uc544\",\"\\ud30c\\ud478\\uc544\\ub274\\uae30\\ub2c8\",\"\\uc9c0\\ubd80\\ud2f0\",\"\\uce84\\ubcf4\\ub514\\uc544\",\"\\ucf54\\ud2b8\\ub514\\ubd80\\uc544\\ub974\",\"\\uc7a0\\ube44\\uc544\",\"\\ud0c0\\uc9c0\\ud0a4\\uc2a4\\ud0c4\",\"\\ud0a4\\ub974\\uae30\\uc2a4\\uc2a4\\ud0c4\",\"\\uce74\\uba54\\ub8ec\",\"\\uc138\\ub124\\uac08\",\"\\ub808\\uc18c\\ud1a0\",\"\\ucf00\\ub0d0\",\"\\uc0c1\\ud22c\\uba54\\ud504\\ub9b0\\uc2dc\\ud398\",\"\\ubc14\\ub204\\uc544\\ud22c\",\"\\ud0c4\\uc790\\ub2c8\\uc544\",\"\\ub124\\ud314\",\"\\uc2dc\\ub9ac\\uc544\",\"\\uc9d0\\ubc14\\ube0c\\uc6e8\",\"\\ucf54\\ubaa8\\ub85c\",\"\\uae30\\ub2c8\",\"\\ubca0\\ub0c9\",\"\\uc194\\ub85c\\ubaac\\uc81c\\ub3c4\",\"\\ub9d0\\ub9ac\",\"\\ub974\\uc644\\ub2e4\",\"\\uc5d0\\ud2f0\\uc624\\ud53c\\uc544\",\"\\uc6b0\\uac04\\ub2e4\",\"\\uc544\\ud504\\uac00\\ub2c8\\uc2a4\\ud0c4\",\"\\ucc28\\ub4dc\",\"\\uc5d0\\ub9ac\\ud2b8\\ub808\\uc544\",\"\\ubd80\\ub974\\ud0a4\\ub098\\ud30c\\uc18c\",\"\\uc544\\uc774\\ud2f0\",\"\\uae30\\ub2c8\\ube44\\uc0ac\\uc6b0\",\"\\ud1a0\\uace0\",\"\\uac10\\ube44\\uc544\",\"\\uc608\\uba58\",\"\\ub9c8\\ub2e4\\uac00\\uc2a4\\uce74\\ub974\",\"\\uc2dc\\uc5d0\\ub77c\\ub9ac\\uc628\",\"\\ub9d0\\ub77c\\uc704\",\"\\ubaa8\\uc7a0\\ube44\\ud06c\",\"\\ub77c\\uc774\\ubca0\\ub9ac\\uc544\",\"\\ub2c8\\uc81c\\ub974\",\"\\ucf69\\uace0\\ubbfc\\uc8fc\\uacf5\\ud654\\uad6d\",\"\\uc911\\uc559\\uc544\\ud504\\ub9ac\\uce74\\uacf5\\ud654\\uad6d\",\"\\ubd80\\ub8ec\\ub514\"],\"legendgroup\":\"\",\"marker\":{\"color\":\"#636efa\",\"symbol\":\"circle\"},\"mode\":\"markers\",\"name\":\"\",\"orientation\":\"v\",\"showlegend\":false,\"type\":\"scatter\",\"x\":[1.88,1.21,1.85,2.1,1.68,1.42,1.45,1.33,1.54,1.78,1.84,1.66,2.34,1.76,1.85,1.77,1.59,1.53,1.83,1.71,1.53,1.53,1.37,1.85,2.0,1.75,2.93,1.11,1.33,1.9,1.33,1.45,3.04,1.34,1.6,1.64,1.5,1.59,1.67,1.73,1.76,1.29,1.42,2.01,1.49,1.72,2.46,1.82,1.3,2.08,1.62,1.45,1.39,2.0,2.76,1.65,2.47,1.56,1.98,2.15,4.55,2.14,2.27,1.75,1.71,2.79,1.53,1.69,2.89,1.62,4.0,3.68,2.08,1.46,2.36,1.76,1.74,3.05,1.82,1.5,2.07,1.88,2.27,1.62,2.43,2.41,1.9,2.45,2.25,2.21,1.44,2.32,2.09,2.9,3.33,2.2,2.44,3.42,2.06,2.58,3.03,1.76,2.79,2.28,2.0,2.77,1.44,1.99,1.62,2.47,2.42,2.9,2.32,2.05,2.75,1.26,2.24,2.29,2.43,2.7,2.06,3.9,4.45,3.58,2.17,5.55,3.55,5.42,2.42,2.49,3.89,2.05,4.43,3.58,4.59,3.08,3.59,2.76,2.52,4.68,4.66,3.61,3.0,4.6,4.65,3.16,3.52,4.35,3.8,4.92,1.93,2.84,3.63,4.24,4.74,4.87,4.44,5.92,4.1,4.3,5.01,4.56,5.8,4.1,5.23,2.96,4.51,4.35,5.25,3.84,4.11,4.32,4.25,4.89,4.35,6.95,5.96,4.75,5.45],\"xaxis\":\"x\",\"y\":[110489.0,83793.0,76389.0,71164.0,68059.0,66912.0,65543.0,60221.0,59375.0,56140.0,55660.0,50013.0,49338.0,48836.0,47955.0,47566.0,46946.0,46231.0,44097.0,43821.0,43602.0,41779.0,40799.0,40511.0,40399.0,39507.0,37039.0,36757.0,36141.0,35108.0,35041.0,34795.0,33650.0,33100.0,32143.0,31597.0,30672.0,30379.0,29775.0,28497.0,28395.0,27935.0,27626.0,27227.0,27144.0,26301.0,25077.0,25036.0,24909.0,24905.0,23906.0,23061.0,22724.0,22201.0,22168.0,21972.0,20455.0,19646.0,19435.0,18166.0,17796.0,17628.0,17611.0,17511.0,17039.0,16407.0,16129.0,16127.0,15951.0,15912.0,15794.0,15365.0,15240.0,15218.0,15074.0,14790.0,14068.0,13639.0,12896.0,12874.0,12684.0,12549.0,12323.0,12300.0,11933.0,11756.0,11746.0,11720.0,11685.0,11611.0,11528.0,11256.0,11136.0,10784.0,10744.0,10677.0,10141.0,9683.0,9570.0,9540.0,9359.0,9277.0,9110.0,9070.0,8609.0,8268.0,7994.0,7932.0,7811.0,7615.0,7480.0,7378.0,7136.0,6973.0,6849.0,6833.0,6829.0,6513.0,6462.0,6317.0,6220.0,5885.0,5804.0,5783.0,5764.0,5555.0,5190.0,5086.0,4790.0,4258.0,4099.0,4057.0,3962.0,3917.0,3746.0,3700.0,3686.0,3601.0,3597.0,3589.0,3582.0,3482.0,3317.0,3291.0,3256.0,3244.0,3052.0,3024.0,2808.0,2805.0,2748.0,2725.0,2661.0,2426.0,2211.0,2135.0,2027.0,1965.0,1959.0,1782.0,1752.0,1746.0,1716.0,1708.0,1705.0,1665.0,1593.0,1593.0,1490.0,1433.0,1404.0,1381.0,1159.0,1154.0,1040.0,912.0,800.0,777.0,660.0],\"yaxis\":\"y\"}],                        {\"legend\":{\"tracegroupgap\":0},\"template\":{\"data\":{\"bar\":[{\"error_x\":{\"color\":\"#2a3f5f\"},\"error_y\":{\"color\":\"#2a3f5f\"},\"marker\":{\"line\":{\"color\":\"#E5ECF6\",\"width\":0.5},\"pattern\":{\"fillmode\":\"overlay\",\"size\":10,\"solidity\":0.2}},\"type\":\"bar\"}],\"barpolar\":[{\"marker\":{\"line\":{\"color\":\"#E5ECF6\",\"width\":0.5},\"pattern\":{\"fillmode\":\"overlay\",\"size\":10,\"solidity\":0.2}},\"type\":\"barpolar\"}],\"carpet\":[{\"aaxis\":{\"endlinecolor\":\"#2a3f5f\",\"gridcolor\":\"white\",\"linecolor\":\"white\",\"minorgridcolor\":\"white\",\"startlinecolor\":\"#2a3f5f\"},\"baxis\":{\"endlinecolor\":\"#2a3f5f\",\"gridcolor\":\"white\",\"linecolor\":\"white\",\"minorgridcolor\":\"white\",\"startlinecolor\":\"#2a3f5f\"},\"type\":\"carpet\"}],\"choropleth\":[{\"colorbar\":{\"outlinewidth\":0,\"ticks\":\"\"},\"type\":\"choropleth\"}],\"contour\":[{\"colorbar\":{\"outlinewidth\":0,\"ticks\":\"\"},\"colorscale\":[[0.0,\"#0d0887\"],[0.1111111111111111,\"#46039f\"],[0.2222222222222222,\"#7201a8\"],[0.3333333333333333,\"#9c179e\"],[0.4444444444444444,\"#bd3786\"],[0.5555555555555556,\"#d8576b\"],[0.6666666666666666,\"#ed7953\"],[0.7777777777777778,\"#fb9f3a\"],[0.8888888888888888,\"#fdca26\"],[1.0,\"#f0f921\"]],\"type\":\"contour\"}],\"contourcarpet\":[{\"colorbar\":{\"outlinewidth\":0,\"ticks\":\"\"},\"type\":\"contourcarpet\"}],\"heatmap\":[{\"colorbar\":{\"outlinewidth\":0,\"ticks\":\"\"},\"colorscale\":[[0.0,\"#0d0887\"],[0.1111111111111111,\"#46039f\"],[0.2222222222222222,\"#7201a8\"],[0.3333333333333333,\"#9c179e\"],[0.4444444444444444,\"#bd3786\"],[0.5555555555555556,\"#d8576b\"],[0.6666666666666666,\"#ed7953\"],[0.7777777777777778,\"#fb9f3a\"],[0.8888888888888888,\"#fdca26\"],[1.0,\"#f0f921\"]],\"type\":\"heatmap\"}],\"heatmapgl\":[{\"colorbar\":{\"outlinewidth\":0,\"ticks\":\"\"},\"colorscale\":[[0.0,\"#0d0887\"],[0.1111111111111111,\"#46039f\"],[0.2222222222222222,\"#7201a8\"],[0.3333333333333333,\"#9c179e\"],[0.4444444444444444,\"#bd3786\"],[0.5555555555555556,\"#d8576b\"],[0.6666666666666666,\"#ed7953\"],[0.7777777777777778,\"#fb9f3a\"],[0.8888888888888888,\"#fdca26\"],[1.0,\"#f0f921\"]],\"type\":\"heatmapgl\"}],\"histogram\":[{\"marker\":{\"pattern\":{\"fillmode\":\"overlay\",\"size\":10,\"solidity\":0.2}},\"type\":\"histogram\"}],\"histogram2d\":[{\"colorbar\":{\"outlinewidth\":0,\"ticks\":\"\"},\"colorscale\":[[0.0,\"#0d0887\"],[0.1111111111111111,\"#46039f\"],[0.2222222222222222,\"#7201a8\"],[0.3333333333333333,\"#9c179e\"],[0.4444444444444444,\"#bd3786\"],[0.5555555555555556,\"#d8576b\"],[0.6666666666666666,\"#ed7953\"],[0.7777777777777778,\"#fb9f3a\"],[0.8888888888888888,\"#fdca26\"],[1.0,\"#f0f921\"]],\"type\":\"histogram2d\"}],\"histogram2dcontour\":[{\"colorbar\":{\"outlinewidth\":0,\"ticks\":\"\"},\"colorscale\":[[0.0,\"#0d0887\"],[0.1111111111111111,\"#46039f\"],[0.2222222222222222,\"#7201a8\"],[0.3333333333333333,\"#9c179e\"],[0.4444444444444444,\"#bd3786\"],[0.5555555555555556,\"#d8576b\"],[0.6666666666666666,\"#ed7953\"],[0.7777777777777778,\"#fb9f3a\"],[0.8888888888888888,\"#fdca26\"],[1.0,\"#f0f921\"]],\"type\":\"histogram2dcontour\"}],\"mesh3d\":[{\"colorbar\":{\"outlinewidth\":0,\"ticks\":\"\"},\"type\":\"mesh3d\"}],\"parcoords\":[{\"line\":{\"colorbar\":{\"outlinewidth\":0,\"ticks\":\"\"}},\"type\":\"parcoords\"}],\"pie\":[{\"automargin\":true,\"type\":\"pie\"}],\"scatter\":[{\"marker\":{\"colorbar\":{\"outlinewidth\":0,\"ticks\":\"\"}},\"type\":\"scatter\"}],\"scatter3d\":[{\"line\":{\"colorbar\":{\"outlinewidth\":0,\"ticks\":\"\"}},\"marker\":{\"colorbar\":{\"outlinewidth\":0,\"ticks\":\"\"}},\"type\":\"scatter3d\"}],\"scattercarpet\":[{\"marker\":{\"colorbar\":{\"outlinewidth\":0,\"ticks\":\"\"}},\"type\":\"scattercarpet\"}],\"scattergeo\":[{\"marker\":{\"colorbar\":{\"outlinewidth\":0,\"ticks\":\"\"}},\"type\":\"scattergeo\"}],\"scattergl\":[{\"marker\":{\"colorbar\":{\"outlinewidth\":0,\"ticks\":\"\"}},\"type\":\"scattergl\"}],\"scattermapbox\":[{\"marker\":{\"colorbar\":{\"outlinewidth\":0,\"ticks\":\"\"}},\"type\":\"scattermapbox\"}],\"scatterpolar\":[{\"marker\":{\"colorbar\":{\"outlinewidth\":0,\"ticks\":\"\"}},\"type\":\"scatterpolar\"}],\"scatterpolargl\":[{\"marker\":{\"colorbar\":{\"outlinewidth\":0,\"ticks\":\"\"}},\"type\":\"scatterpolargl\"}],\"scatterternary\":[{\"marker\":{\"colorbar\":{\"outlinewidth\":0,\"ticks\":\"\"}},\"type\":\"scatterternary\"}],\"surface\":[{\"colorbar\":{\"outlinewidth\":0,\"ticks\":\"\"},\"colorscale\":[[0.0,\"#0d0887\"],[0.1111111111111111,\"#46039f\"],[0.2222222222222222,\"#7201a8\"],[0.3333333333333333,\"#9c179e\"],[0.4444444444444444,\"#bd3786\"],[0.5555555555555556,\"#d8576b\"],[0.6666666666666666,\"#ed7953\"],[0.7777777777777778,\"#fb9f3a\"],[0.8888888888888888,\"#fdca26\"],[1.0,\"#f0f921\"]],\"type\":\"surface\"}],\"table\":[{\"cells\":{\"fill\":{\"color\":\"#EBF0F8\"},\"line\":{\"color\":\"white\"}},\"header\":{\"fill\":{\"color\":\"#C8D4E3\"},\"line\":{\"color\":\"white\"}},\"type\":\"table\"}]},\"layout\":{\"annotationdefaults\":{\"arrowcolor\":\"#2a3f5f\",\"arrowhead\":0,\"arrowwidth\":1},\"autotypenumbers\":\"strict\",\"coloraxis\":{\"colorbar\":{\"outlinewidth\":0,\"ticks\":\"\"}},\"colorscale\":{\"diverging\":[[0,\"#8e0152\"],[0.1,\"#c51b7d\"],[0.2,\"#de77ae\"],[0.3,\"#f1b6da\"],[0.4,\"#fde0ef\"],[0.5,\"#f7f7f7\"],[0.6,\"#e6f5d0\"],[0.7,\"#b8e186\"],[0.8,\"#7fbc41\"],[0.9,\"#4d9221\"],[1,\"#276419\"]],\"sequential\":[[0.0,\"#0d0887\"],[0.1111111111111111,\"#46039f\"],[0.2222222222222222,\"#7201a8\"],[0.3333333333333333,\"#9c179e\"],[0.4444444444444444,\"#bd3786\"],[0.5555555555555556,\"#d8576b\"],[0.6666666666666666,\"#ed7953\"],[0.7777777777777778,\"#fb9f3a\"],[0.8888888888888888,\"#fdca26\"],[1.0,\"#f0f921\"]],\"sequentialminus\":[[0.0,\"#0d0887\"],[0.1111111111111111,\"#46039f\"],[0.2222222222222222,\"#7201a8\"],[0.3333333333333333,\"#9c179e\"],[0.4444444444444444,\"#bd3786\"],[0.5555555555555556,\"#d8576b\"],[0.6666666666666666,\"#ed7953\"],[0.7777777777777778,\"#fb9f3a\"],[0.8888888888888888,\"#fdca26\"],[1.0,\"#f0f921\"]]},\"colorway\":[\"#636efa\",\"#EF553B\",\"#00cc96\",\"#ab63fa\",\"#FFA15A\",\"#19d3f3\",\"#FF6692\",\"#B6E880\",\"#FF97FF\",\"#FECB52\"],\"font\":{\"color\":\"#2a3f5f\"},\"geo\":{\"bgcolor\":\"white\",\"lakecolor\":\"white\",\"landcolor\":\"#E5ECF6\",\"showlakes\":true,\"showland\":true,\"subunitcolor\":\"white\"},\"hoverlabel\":{\"align\":\"left\"},\"hovermode\":\"closest\",\"mapbox\":{\"style\":\"light\"},\"paper_bgcolor\":\"white\",\"plot_bgcolor\":\"#E5ECF6\",\"polar\":{\"angularaxis\":{\"gridcolor\":\"white\",\"linecolor\":\"white\",\"ticks\":\"\"},\"bgcolor\":\"#E5ECF6\",\"radialaxis\":{\"gridcolor\":\"white\",\"linecolor\":\"white\",\"ticks\":\"\"}},\"scene\":{\"xaxis\":{\"backgroundcolor\":\"#E5ECF6\",\"gridcolor\":\"white\",\"gridwidth\":2,\"linecolor\":\"white\",\"showbackground\":true,\"ticks\":\"\",\"zerolinecolor\":\"white\"},\"yaxis\":{\"backgroundcolor\":\"#E5ECF6\",\"gridcolor\":\"white\",\"gridwidth\":2,\"linecolor\":\"white\",\"showbackground\":true,\"ticks\":\"\",\"zerolinecolor\":\"white\"},\"zaxis\":{\"backgroundcolor\":\"#E5ECF6\",\"gridcolor\":\"white\",\"gridwidth\":2,\"linecolor\":\"white\",\"showbackground\":true,\"ticks\":\"\",\"zerolinecolor\":\"white\"}},\"shapedefaults\":{\"line\":{\"color\":\"#2a3f5f\"}},\"ternary\":{\"aaxis\":{\"gridcolor\":\"white\",\"linecolor\":\"white\",\"ticks\":\"\"},\"baxis\":{\"gridcolor\":\"white\",\"linecolor\":\"white\",\"ticks\":\"\"},\"bgcolor\":\"#E5ECF6\",\"caxis\":{\"gridcolor\":\"white\",\"linecolor\":\"white\",\"ticks\":\"\"}},\"title\":{\"x\":0.05},\"xaxis\":{\"automargin\":true,\"gridcolor\":\"white\",\"linecolor\":\"white\",\"ticks\":\"\",\"title\":{\"standoff\":15},\"zerolinecolor\":\"white\",\"zerolinewidth\":2},\"yaxis\":{\"automargin\":true,\"gridcolor\":\"white\",\"linecolor\":\"white\",\"ticks\":\"\",\"title\":{\"standoff\":15},\"zerolinecolor\":\"white\",\"zerolinewidth\":2}}},\"title\":{\"text\":\"GNI and BirthRate\"},\"xaxis\":{\"anchor\":\"y\",\"domain\":[0.0,1.0],\"title\":{\"text\":\"\\ud569\\uacc4\\ucd9c\\uc0b0;2020\"},\"type\":\"log\"},\"yaxis\":{\"anchor\":\"x\",\"domain\":[0.0,1.0],\"title\":{\"text\":\"1\\uc778\\ub2f9 GNI(\\uad6c\\ub9e4\\ub825\\ud658\\uc0b0\\uae30\\uc900 2011) (\\ub2ec\\ub7ec);2018\"}}},                        {\"responsive\": true}                    ).then(function(){\n",
       "                            \n",
       "var gd = document.getElementById('eebaefed-b2e6-4e57-bd97-f240a0a44aa8');\n",
       "var x = new MutationObserver(function (mutations, observer) {{\n",
       "        var display = window.getComputedStyle(gd).display;\n",
       "        if (!display || display === 'none') {{\n",
       "            console.log([gd, 'removed!']);\n",
       "            Plotly.purge(gd);\n",
       "            observer.disconnect();\n",
       "        }}\n",
       "}});\n",
       "\n",
       "// Listen for the removal of the full notebook cells\n",
       "var notebookContainer = gd.closest('#notebook-container');\n",
       "if (notebookContainer) {{\n",
       "    x.observe(notebookContainer, {childList: true});\n",
       "}}\n",
       "\n",
       "// Listen for the clearing of the current output cell\n",
       "var outputEl = gd.closest('.output');\n",
       "if (outputEl) {{\n",
       "    x.observe(outputEl, {childList: true});\n",
       "}}\n",
       "\n",
       "                        })                };                });            </script>        </div>"
      ]
     },
     "metadata": {},
     "output_type": "display_data"
    }
   ],
   "source": [
    "# plotly.express\n",
    "\n",
    "import plotly.express as px\n",
    "# gni_birth_graph=px.data.gapminder().query()\n",
    "fig=px.scatter(gni_birth_df, \n",
    "               title=\"GNI and BirthRate\",\n",
    "               x=\"합계출산;2020\",\n",
    "               y=\"1인당 GNI(구매력환산기준 2011)\"+\" (달러);2018\", \n",
    "               hover_name='국가명',\n",
    "               log_x=True)\n",
    "fig.show()"
   ]
  },
  {
   "cell_type": "code",
   "execution_count": null,
   "id": "9e847127",
   "metadata": {},
   "outputs": [],
   "source": []
  }
 ],
 "metadata": {
  "kernelspec": {
   "display_name": "Python 3",
   "language": "python",
   "name": "python3"
  },
  "language_info": {
   "codemirror_mode": {
    "name": "ipython",
    "version": 3
   },
   "file_extension": ".py",
   "mimetype": "text/x-python",
   "name": "python",
   "nbconvert_exporter": "python",
   "pygments_lexer": "ipython3",
   "version": "3.8.8"
  }
 },
 "nbformat": 4,
 "nbformat_minor": 5
}
